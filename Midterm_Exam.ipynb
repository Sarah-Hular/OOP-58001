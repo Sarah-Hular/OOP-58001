{
  "nbformat": 4,
  "nbformat_minor": 0,
  "metadata": {
    "colab": {
      "name": "Midterm Exam.ipynb",
      "provenance": [],
      "authorship_tag": "ABX9TyNZPUd8BTKJQCx19Ze/ONOD",
      "include_colab_link": true
    },
    "kernelspec": {
      "name": "python3",
      "display_name": "Python 3"
    },
    "language_info": {
      "name": "python"
    }
  },
  "cells": [
    {
      "cell_type": "markdown",
      "metadata": {
        "id": "view-in-github",
        "colab_type": "text"
      },
      "source": [
        "<a href=\"https://colab.research.google.com/github/Sarah-Hular/OOP-58001/blob/main/Midterm_Exam.ipynb\" target=\"_parent\"><img src=\"https://colab.research.google.com/assets/colab-badge.svg\" alt=\"Open In Colab\"/></a>"
      ]
    },
    {
      "cell_type": "markdown",
      "source": [
        "Program 1: Modify the program below by adding two conversion methods - Fahrenheit to Celsius and Kelvin to Celsius "
      ],
      "metadata": {
        "id": "EXcQNgBoiuOr"
      }
    },
    {
      "cell_type": "code",
      "execution_count": 4,
      "metadata": {
        "colab": {
          "base_uri": "https://localhost:8080/"
        },
        "id": "G2BLIgffiqvj",
        "outputId": "03935d82-ef68-4f47-9c24-e4e8deb9f910"
      },
      "outputs": [
        {
          "output_type": "stream",
          "name": "stdout",
          "text": [
            "Enter the temperature in Celsius: 25\n",
            "298.15 Kelvin (From C to K\n",
            "77.0 Fahrenheit (From C to F\n",
            "-3.888888888888889Celsius (From F to C\n",
            "-248.14999999999998Celsius (From K to C\n"
          ]
        }
      ],
      "source": [
        "def main():\n",
        "    class TemperatureConversion:\n",
        "        def __init__(self, temp=1):\n",
        "            self._temp = temp\n",
        "\n",
        "    class CelsiusToFahrenheit(TemperatureConversion):\n",
        "        def conversion(self):\n",
        "            return (self._temp * 9) / 5 + 32\n",
        "\n",
        "    class CelsiusToKelvin(TemperatureConversion):\n",
        "        def conversion(self):\n",
        "            return self._temp + 273.15\n",
        "\n",
        "    class FahrenheitToCelsius(TemperatureConversion):\n",
        "        def conversion(self):\n",
        "            return (self._temp - 32) * 5 / 9\n",
        "\n",
        "    class KelvinToCelsius(TemperatureConversion):\n",
        "        def conversion(self):\n",
        "            return self._temp - 273.15\n",
        "\n",
        "    tempInCelsius = float(input(\"Enter the temperature in Celsius: \"))\n",
        "    convert = CelsiusToKelvin(tempInCelsius)\n",
        "    print(str(convert.conversion()) + \" Kelvin (From C to K\")\n",
        "    convert = CelsiusToFahrenheit(tempInCelsius)\n",
        "    print(str(convert.conversion()) + \" Fahrenheit (From C to F\")\n",
        "    convert = FahrenheitToCelsius(tempInCelsius)\n",
        "    print(str(convert.conversion()) + \"Celsius (From F to C\")\n",
        "    convert = KelvinToCelsius(tempInCelsius)\n",
        "    print(str(convert.conversion()) + \"Celsius (From K to C\")\n",
        "\n",
        "main()"
      ]
    },
    {
      "cell_type": "markdown",
      "source": [
        "Program 2: Create a program to produce the interface: (Hint: After typing your full name in the first entry field widget, the bottom entry field will show your full name after clicking the button "
      ],
      "metadata": {
        "id": "dxQ7l1htjpJz"
      }
    },
    {
      "cell_type": "code",
      "source": [
        "from tkinter import *\n",
        "window=Tk()\n",
        "\n",
        "def fullname():\n",
        "    name['text'] = 'myname'\n",
        "\n",
        "label = Label(text='Enter your Fullname:', fg='purple')\n",
        "label.place(x=30, y=50)\n",
        "\n",
        "button = Button(text='Click to display your Fullname', fg='purple', command=fullname)\n",
        "button.place(x=30, y=100)\n",
        "\n",
        "entername = Entry(textvariable='myname', bd='5')\n",
        "entername.place(x=230, y=50)\n",
        "\n",
        "name = Entry(text='This is my name', bd='5')\n",
        "name.place(x=230, y=100)\n",
        "\n",
        "window.title('Midterm in OOP')\n",
        "window.geometry(\"500x200+10+10\")\n",
        "window.mainloop()"
      ],
      "metadata": {
        "id": "lETtrCOkqJf2"
      },
      "execution_count": null,
      "outputs": []
    }
  ]
}