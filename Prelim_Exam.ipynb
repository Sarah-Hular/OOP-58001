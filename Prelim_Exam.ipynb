{
  "nbformat": 4,
  "nbformat_minor": 0,
  "metadata": {
    "colab": {
      "name": "Prelim Exam.ipynb",
      "provenance": [],
      "collapsed_sections": [],
      "authorship_tag": "ABX9TyPSroMxEIXs86px9xXJOi/b",
      "include_colab_link": true
    },
    "kernelspec": {
      "name": "python3",
      "display_name": "Python 3"
    },
    "language_info": {
      "name": "python"
    }
  },
  "cells": [
    {
      "cell_type": "markdown",
      "metadata": {
        "id": "view-in-github",
        "colab_type": "text"
      },
      "source": [
        "<a href=\"https://colab.research.google.com/github/Sarah-Hular/OOP-58001/blob/main/Prelim_Exam.ipynb\" target=\"_parent\"><img src=\"https://colab.research.google.com/assets/colab-badge.svg\" alt=\"Open In Colab\"/></a>"
      ]
    },
    {
      "cell_type": "markdown",
      "source": [
        "\n",
        "\n",
        "*  Write a Python to display your full name, student number, age, and course\n",
        "* Create a class named Student with attributes: Name, Student_No, Age, School, and Course\n",
        "* Create an object name Myself and assign an instance for each attribute.\n",
        "* Create a method Self () using an instantiation of a class.\n",
        "* Insert your GitHub link \"Prelim Exam\" from your repository named \"OOP 58001\" \n",
        "\n",
        "\n"
      ],
      "metadata": {
        "id": "BXlqUhICN9oE"
      }
    },
    {
      "cell_type": "code",
      "source": [
        "class Person():\n",
        "  def __init__(self, name, age, school, ID, course):\n",
        "    self.name = name\n",
        "    self.age = age\n",
        "    self.school = school\n",
        "    self.ID = ID\n",
        "    self.course = course\n",
        "\n",
        "  def my_info():\n",
        "    name, age = \"Hular, Sarah Nicole S.\", 18\n",
        "    ID = 202119132\n",
        "    school = \"Adamson University\"\n",
        "    course = \"Bachelor of Science in Computer Engineering\"\n",
        "    print(\"My name is {} and I am {} years old\".format(name, age))\n",
        "    print(\"My student ID is {}\".format(ID))\n",
        "    print(\"I am currently studying in {}\".format(school))\n",
        "    print(\"My course is {}\".format(course))\n",
        "\n",
        "  my_info()"
      ],
      "metadata": {
        "colab": {
          "base_uri": "https://localhost:8080/"
        },
        "id": "zhiQLHCEOH9c",
        "outputId": "161e872c-0d06-4c39-c24a-4db9ad1cd414"
      },
      "execution_count": 20,
      "outputs": [
        {
          "output_type": "stream",
          "name": "stdout",
          "text": [
            "My name is Hular, Sarah Nicole S. and I am 18 years old\n",
            "My student ID is 202119132\n",
            "I am currently studying in Adamson University\n",
            "My course is Bachelor of Science in Computer Engineering\n"
          ]
        }
      ]
    }
  ]
}