{
  "nbformat": 4,
  "nbformat_minor": 0,
  "metadata": {
    "colab": {
      "name": "Prelim Exam.ipynb",
      "provenance": [],
      "authorship_tag": "ABX9TyP1pYrmhZ3G9rSwQZOhfS/t",
      "include_colab_link": true
    },
    "kernelspec": {
      "name": "python3",
      "display_name": "Python 3"
    },
    "language_info": {
      "name": "python"
    }
  },
  "cells": [
    {
      "cell_type": "markdown",
      "metadata": {
        "id": "view-in-github",
        "colab_type": "text"
      },
      "source": [
        "<a href=\"https://colab.research.google.com/github/Sarah-Hular/OOP-58001/blob/main/Prelim_Exam.ipynb\" target=\"_parent\"><img src=\"https://colab.research.google.com/assets/colab-badge.svg\" alt=\"Open In Colab\"/></a>"
      ]
    },
    {
      "cell_type": "markdown",
      "source": [
        "* Write a Python to display your full name, student number, age, and course\n",
        "* Create a class named Student with attributes: Name, Student_No, Age, School, and Course\n",
        "* Create an object name Myself and assign an instance for each attribute.\n",
        "* Create a method Self () using an instantiation of a class.\n",
        "* Insert your GitHub link \"Prelim Exam\" from your repository named \"OOP 58001\" "
      ],
      "metadata": {
        "id": "iLssGah9Htdb"
      }
    },
    {
      "cell_type": "code",
      "source": [
        "class Student:\n",
        "  def __init__(self,Name, Student_No,Age,School,Course):\n",
        "    self. Name = Name\n",
        "    self.Student_No = Name\n",
        "    self.Age =Age\n",
        "    self.School = School\n",
        "    self.Course = Course\n",
        "  def self (self) :\n",
        "    return f'Name: {self. Name}\\nStudent Number: {self.Student_No}\\nAge: {self.Age}\\nSchool: {self.School}\\nCourse: {self.Course}'\n",
        "Myself = Student (\"Hular, Sarah Nicole S.\", 202119132, 18, \"Adamson University\", \"BS in Computer Engineering\")\n",
        "print (Myself.self())"
      ],
      "metadata": {
        "colab": {
          "base_uri": "https://localhost:8080/"
        },
        "id": "w5VAPNTBHz77",
        "outputId": "21d19c17-e7af-4499-d59f-99ecb278792f"
      },
      "execution_count": 8,
      "outputs": [
        {
          "output_type": "stream",
          "name": "stdout",
          "text": [
            "Name: Hular, Sarah Nicole S.\n",
            "Student Number: Hular, Sarah Nicole S.\n",
            "Age: 18\n",
            "School: Adamson University\n",
            "Course: BS in Computer Engineering\n"
          ]
        }
      ]
    }
  ]
}