{
  "nbformat": 4,
  "nbformat_minor": 0,
  "metadata": {
    "colab": {
      "name": "Prelim Exam.ipynb",
      "provenance": [],
      "collapsed_sections": [],
      "authorship_tag": "ABX9TyNjh90hbzZUEY9Uq98rflFs",
      "include_colab_link": true
    },
    "kernelspec": {
      "name": "python3",
      "display_name": "Python 3"
    },
    "language_info": {
      "name": "python"
    }
  },
  "cells": [
    {
      "cell_type": "markdown",
      "metadata": {
        "id": "view-in-github",
        "colab_type": "text"
      },
      "source": [
        "<a href=\"https://colab.research.google.com/github/Sarah-Hular/OOP-58001/blob/main/Prelim_Exam.ipynb\" target=\"_parent\"><img src=\"https://colab.research.google.com/assets/colab-badge.svg\" alt=\"Open In Colab\"/></a>"
      ]
    },
    {
      "cell_type": "markdown",
      "source": [
        "* Write a Python to display your full name, student number, age, and course\n",
        "* Create a class named Student with attributes: Name, Student_No, Age, School, and Course\n",
        "* Create an object name Myself and assign an instance for each attribute.\n",
        "* Create a method Self () using an instantiation of a class.\n",
        "* Insert your GitHub link \"Prelim Exam\" from your repository named \"OOP 58001\" "
      ],
      "metadata": {
        "id": "iLssGah9Htdb"
      }
    },
    {
      "cell_type": "code",
      "source": [
        "def my_info():\n",
        "   fullname, age = \"Sarah Nicole Hular\", 18\n",
        "   studentnumber= \"202119132\"\n",
        "   course = \"Computer Engineering\"\n",
        "   print(\"Fullname: {}\\nAge: {}\\nStudentnumber: {}\\ncourse: {}\".format (fullname, age, studentnumber, course))\n",
        "my_info()"
      ],
      "metadata": {
        "colab": {
          "base_uri": "https://localhost:8080/"
        },
        "id": "w5VAPNTBHz77",
        "outputId": "5371f437-ce98-455a-8946-8ab97f3770d8"
      },
      "execution_count": 15,
      "outputs": [
        {
          "output_type": "stream",
          "name": "stdout",
          "text": [
            "Fullname: Sarah Nicole Hular\n",
            "Age: 18\n",
            "Studentnumber: 202119132\n",
            "course: Computer Engineering\n"
          ]
        }
      ]
    }
  ]
}