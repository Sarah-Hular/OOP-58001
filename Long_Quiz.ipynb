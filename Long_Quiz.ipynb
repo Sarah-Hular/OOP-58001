{
  "nbformat": 4,
  "nbformat_minor": 0,
  "metadata": {
    "colab": {
      "name": "Long Quiz.ipynb",
      "provenance": [],
      "authorship_tag": "ABX9TyMtPJGEQrfezcrkjXija9Zo",
      "include_colab_link": true
    },
    "kernelspec": {
      "name": "python3",
      "display_name": "Python 3"
    },
    "language_info": {
      "name": "python"
    }
  },
  "cells": [
    {
      "cell_type": "markdown",
      "metadata": {
        "id": "view-in-github",
        "colab_type": "text"
      },
      "source": [
        "<a href=\"https://colab.research.google.com/github/Sarah-Hular/OOP-58001/blob/main/Long_Quiz.ipynb\" target=\"_parent\"><img src=\"https://colab.research.google.com/assets/colab-badge.svg\" alt=\"Open In Colab\"/></a>"
      ]
    },
    {
      "cell_type": "markdown",
      "source": [
        "2. Write a Python program that asks the user to enter the radius of a circle and solve its area and perimeter."
      ],
      "metadata": {
        "id": "jOGdLUltJoZo"
      }
    },
    {
      "cell_type": "code",
      "source": [
        "import math\n",
        "class circle_compute():\n",
        "   def __init__(self,my_radius):\n",
        "      self.radius=my_radius\n",
        "   def area_calculate(self):\n",
        "      return math.pi*(self.radius**2)\n",
        "   def perimeter_calculate(self):\n",
        "      return 2*math.pi*self.radius\n",
        "my_result = int(input(\"Please Enter the radius of circle...\"))\n",
        "my_instance = circle_compute(my_result)\n",
        "print(\"The result of the radius entered is :\")\n",
        "print(my_result)\n",
        "print(\"The computed area of circle is \")\n",
        "print(round(my_instance.area_calculate(),2))\n",
        "print(\"The computed perimeter of circle is :\")\n",
        "print(round(my_instance.perimeter_calculate(),2))\n"
      ],
      "metadata": {
        "colab": {
          "base_uri": "https://localhost:8080/"
        },
        "id": "EUe5sls6KLrX",
        "outputId": "b1dbf1c4-d033-411e-bc04-0fe75ff3a01c"
      },
      "execution_count": 7,
      "outputs": [
        {
          "output_type": "stream",
          "name": "stdout",
          "text": [
            "Please Enter the radius of circle...3\n",
            "The result of the radius entered is :\n",
            "3\n",
            "The computed area of circle is \n",
            "28.27\n",
            "The computed perimeter of circle is :\n",
            "18.85\n"
          ]
        }
      ]
    },
    {
      "cell_type": "markdown",
      "source": [
        "3. Create a class name Circle allowing you to build a circle with radius and pi attributes."
      ],
      "metadata": {
        "id": "XbON8ktUK3tQ"
      }
    },
    {
      "cell_type": "code",
      "source": [
        "class Circle():\n",
        "    def __init__(self, r):\n",
        "        self.radius = r\n",
        "\n",
        "    def area(self):\n",
        "        return self.radius**2*3.14\n",
        "    \n",
        "    def perimeter(self):\n",
        "        return 2*self.radius*3.14\n",
        "\n",
        "NewCircle = Circle(3)\n",
        "print(NewCircle.area())\n",
        "print(NewCircle.perimeter())\n",
        "import math\n",
        "\n",
        "print('The value of pi is: ', math.pi)"
      ],
      "metadata": {
        "colab": {
          "base_uri": "https://localhost:8080/"
        },
        "id": "e11Vy-quK-Bx",
        "outputId": "7cb77576-581f-46d1-c6d0-c910a3377b81"
      },
      "execution_count": 13,
      "outputs": [
        {
          "output_type": "stream",
          "name": "stdout",
          "text": [
            "28.26\n",
            "18.84\n",
            "The value of pi is:  3.141592653589793\n"
          ]
        }
      ]
    },
    {
      "cell_type": "markdown",
      "source": [
        "* Write a Python program that asks the user to enter the radius of a circle and solve its area and perimeter.\n",
        "\n",
        "* Create a class name Circle allowing you to build a circle with radius and pi attributes.\n",
        "\n",
        "* Create a method Display() the perimeter and area using an instantiation of a class.\n",
        "\n",
        "* Create a Perimeter() method to calculate the perimeter of the circle and an Area() method to calculate the area of ​​the circle.\n",
        "\n",
        "\n"
      ],
      "metadata": {
        "id": "WkB30rK4aunm"
      }
    },
    {
      "cell_type": "code",
      "source": [
        "class Circle():\n",
        "  def __init__ (self, radius):\n",
        "    self.radius = int (radius)\n",
        "\n",
        "  def Perimeter (self):\n",
        "    return 2 * pi * self.radius\n",
        "  \n",
        "  def Area (self):\n",
        "    return pi * (self.radius ** 2)\n",
        "\n",
        "  def display (self):\n",
        "    print (\"The perimeter of the circle is\", self.Perimeter())\n",
        "    print (\"The area of the circle is\", self.Area())\n",
        "\n",
        "pi = 3.14\n",
        "round= Circle (input())\n",
        "round.display()"
      ],
      "metadata": {
        "colab": {
          "base_uri": "https://localhost:8080/"
        },
        "id": "-cL6sXzReoRc",
        "outputId": "ecf30187-029f-46df-8612-8b0f0ed8b801"
      },
      "execution_count": 26,
      "outputs": [
        {
          "output_type": "stream",
          "name": "stdout",
          "text": [
            "17\n",
            "The perimeter of the circle is 106.76\n",
            "The area of the circle is 907.46\n"
          ]
        }
      ]
    },
    {
      "cell_type": "markdown",
      "source": [
        ""
      ],
      "metadata": {
        "id": "PtLK3bzPjAhs"
      }
    }
  ]
}