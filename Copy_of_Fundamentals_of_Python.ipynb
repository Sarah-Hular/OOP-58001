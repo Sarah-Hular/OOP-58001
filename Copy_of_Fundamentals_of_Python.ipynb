{
  "nbformat": 4,
  "nbformat_minor": 0,
  "metadata": {
    "colab": {
      "name": "Copy of Fundamentals of Python.ipynb",
      "provenance": [],
      "authorship_tag": "ABX9TyPsWSv1FXT9zqDYtjW223Tv",
      "include_colab_link": true
    },
    "kernelspec": {
      "name": "python3",
      "display_name": "Python 3"
    },
    "language_info": {
      "name": "python"
    }
  },
  "cells": [
    {
      "cell_type": "markdown",
      "metadata": {
        "id": "view-in-github",
        "colab_type": "text"
      },
      "source": [
        "<a href=\"https://colab.research.google.com/github/Sarah-Hular/OOP-58001/blob/main/Copy_of_Fundamentals_of_Python.ipynb\" target=\"_parent\"><img src=\"https://colab.research.google.com/assets/colab-badge.svg\" alt=\"Open In Colab\"/></a>"
      ]
    },
    {
      "cell_type": "markdown",
      "source": [
        "Python Variables"
      ],
      "metadata": {
        "id": "P7TgJ071t9Iu"
      }
    },
    {
      "cell_type": "code",
      "source": [
        "x = float(1)\n",
        "a, b = 0, -1\n",
        "a, b, c= \"Andrea\", \"Dexter\", \"Eleazar\"\n",
        "\n",
        "print('This is a sample')\n",
        "print(a)\n",
        "print(b)"
      ],
      "metadata": {
        "colab": {
          "base_uri": "https://localhost:8080/"
        },
        "id": "r7sSD5kRuB6h",
        "outputId": "697b4aa5-f450-43a2-c910-1f903e274aa8"
      },
      "execution_count": 1,
      "outputs": [
        {
          "output_type": "stream",
          "name": "stdout",
          "text": [
            "This is a sample\n",
            "Andrea\n",
            "Dexter\n"
          ]
        }
      ]
    },
    {
      "cell_type": "markdown",
      "source": [
        "Casting "
      ],
      "metadata": {
        "id": "TY7BqjJLuvfV"
      }
    },
    {
      "cell_type": "code",
      "source": [
        "\n",
        "print(x)"
      ],
      "metadata": {
        "colab": {
          "base_uri": "https://localhost:8080/"
        },
        "id": "zdHsPDw_ux2q",
        "outputId": "83276ec9-ff61-4d7f-d833-b27adb94e624"
      },
      "execution_count": null,
      "outputs": [
        {
          "output_type": "stream",
          "name": "stdout",
          "text": [
            "1.0\n"
          ]
        }
      ]
    },
    {
      "cell_type": "markdown",
      "source": [
        "Type() Function"
      ],
      "metadata": {
        "id": "1p2bB9Equ4LF"
      }
    },
    {
      "cell_type": "code",
      "source": [
        "y = \"Johnny\"\n",
        "\n",
        "print(type(y))\n",
        "print(type(x))"
      ],
      "metadata": {
        "colab": {
          "base_uri": "https://localhost:8080/"
        },
        "id": "E-MDZyXqvYMh",
        "outputId": "e469f58a-7beb-4990-8525-4fa83f646579"
      },
      "execution_count": null,
      "outputs": [
        {
          "output_type": "stream",
          "name": "stdout",
          "text": [
            "<class 'str'>\n",
            "<class 'float'>\n"
          ]
        }
      ]
    },
    {
      "cell_type": "markdown",
      "source": [
        "Double Quotes and Single Quotes"
      ],
      "metadata": {
        "id": "HFOkOmFWwxID"
      }
    },
    {
      "cell_type": "code",
      "source": [
        "h= \"Alora\"\n",
        "v= 1\n",
        "v= 2\n",
        "\n",
        "print(h)\n",
        "print(v)\n",
        "print(v+1)"
      ],
      "metadata": {
        "colab": {
          "base_uri": "https://localhost:8080/"
        },
        "id": "9tDGNz-Gw35R",
        "outputId": "dde5eb85-ae79-4d60-83ad-ccd0ee65c087"
      },
      "execution_count": null,
      "outputs": [
        {
          "output_type": "stream",
          "name": "stdout",
          "text": [
            "Alora\n",
            "2\n",
            "3\n"
          ]
        }
      ]
    },
    {
      "cell_type": "markdown",
      "source": [
        "Multiple Variables\n"
      ],
      "metadata": {
        "id": "7VPBRYePxUPK"
      }
    },
    {
      "cell_type": "code",
      "source": [
        "x,y,z=\"one\",\"two\",\"Three\"\n",
        "print(x)\n",
        "print(y)\n",
        "print(z)\n",
        "print(x,y,z)"
      ],
      "metadata": {
        "colab": {
          "base_uri": "https://localhost:8080/"
        },
        "id": "ZHSkiZChxWcD",
        "outputId": "573ddd05-baa2-4cc6-9188-171941a34439"
      },
      "execution_count": null,
      "outputs": [
        {
          "output_type": "stream",
          "name": "stdout",
          "text": [
            "one\n",
            "two\n",
            "Three\n",
            "one two Three\n"
          ]
        }
      ]
    },
    {
      "cell_type": "markdown",
      "source": [
        "One to Multiple Variables\n"
      ],
      "metadata": {
        "id": "6wzevbxoxqSy"
      }
    },
    {
      "cell_type": "code",
      "source": [
        "x = y = z = \"Sarah\"\n",
        "print(x,y,z)"
      ],
      "metadata": {
        "colab": {
          "base_uri": "https://localhost:8080/"
        },
        "id": "QXuCanRUxtg8",
        "outputId": "0febd4d9-b0cc-454f-a36c-5222c78935ce"
      },
      "execution_count": null,
      "outputs": [
        {
          "output_type": "stream",
          "name": "stdout",
          "text": [
            "Sarah Sarah Sarah\n"
          ]
        }
      ]
    },
    {
      "cell_type": "markdown",
      "source": [
        "Output Variables"
      ],
      "metadata": {
        "id": "GN_BfvJFyLci"
      }
    },
    {
      "cell_type": "code",
      "source": [
        "x= \"enjoying\"\n",
        "\n",
        "print(\"Python is \" + x)\n",
        "\n",
        "x = \"Hi\"\n",
        "y = \"beautiful\"\n",
        "print(x+\"\"+\" \"+y)"
      ],
      "metadata": {
        "colab": {
          "base_uri": "https://localhost:8080/"
        },
        "id": "qfpfHsUFyNc5",
        "outputId": "3b4542df-c1d0-4ebf-a454-c4aee6d3aa9e"
      },
      "execution_count": null,
      "outputs": [
        {
          "output_type": "stream",
          "name": "stdout",
          "text": [
            "Python is enjoying\n",
            "Hi beautiful\n"
          ]
        }
      ]
    },
    {
      "cell_type": "markdown",
      "source": [
        "Python Indentation \n"
      ],
      "metadata": {
        "id": "KfmQbHDB0BY5"
      }
    },
    {
      "cell_type": "code",
      "source": [
        "if 5>4:\n",
        " print( \"Yes\")"
      ],
      "metadata": {
        "colab": {
          "base_uri": "https://localhost:8080/"
        },
        "id": "8-56DnPe0E4b",
        "outputId": "430b9de2-4b28-47ce-dc2b-0abfc75b0b94"
      },
      "execution_count": null,
      "outputs": [
        {
          "output_type": "stream",
          "name": "stdout",
          "text": [
            "Yes\n"
          ]
        }
      ]
    },
    {
      "cell_type": "markdown",
      "source": [
        "Python Comments\n"
      ],
      "metadata": {
        "id": "ynJkd4OW0qye"
      }
    },
    {
      "cell_type": "code",
      "source": [
        "#This is a comment \n",
        "print( \"Hello, Philippines\")"
      ],
      "metadata": {
        "colab": {
          "base_uri": "https://localhost:8080/"
        },
        "id": "sqrleepk0aFF",
        "outputId": "9d268d50-da05-4e60-b972-4e6369b23863"
      },
      "execution_count": null,
      "outputs": [
        {
          "output_type": "stream",
          "name": "stdout",
          "text": [
            "Hello, Philippines\n"
          ]
        }
      ]
    },
    {
      "cell_type": "markdown",
      "source": [
        "Assignment Operators"
      ],
      "metadata": {
        "id": "I_fPNMSZ5Cuh"
      }
    },
    {
      "cell_type": "code",
      "source": [
        "q=10\n",
        "q+=5 \n",
        "\n",
        "print(q)"
      ],
      "metadata": {
        "colab": {
          "base_uri": "https://localhost:8080/"
        },
        "id": "WtgBpV_W5Exm",
        "outputId": "560779d1-a2db-43cc-a236-3e4eb59ef883"
      },
      "execution_count": null,
      "outputs": [
        {
          "output_type": "stream",
          "name": "stdout",
          "text": [
            "15\n"
          ]
        }
      ]
    },
    {
      "cell_type": "markdown",
      "source": [
        "Arithmetic Operations"
      ],
      "metadata": {
        "id": "OIaJhMQx5WZ-"
      }
    },
    {
      "cell_type": "code",
      "source": [
        "j = 2\n",
        "f = 4\n",
        "l = 6\n",
        "\n",
        "print(f+j)\n",
        "print(f-j)\n",
        "print(f*l)\n",
        "print(int(l/f))\n",
        "print(2/f)\n",
        "print(2%f)\n",
        "print(2//f)\n",
        "print(2**2)\n",
        "\n"
      ],
      "metadata": {
        "colab": {
          "base_uri": "https://localhost:8080/"
        },
        "id": "rm0v8-ll5Zo1",
        "outputId": "8220c613-d3c3-4943-ac77-324a3907c1b0"
      },
      "execution_count": null,
      "outputs": [
        {
          "output_type": "stream",
          "name": "stdout",
          "text": [
            "6\n",
            "2\n",
            "24\n",
            "1\n",
            "0.5\n",
            "2\n",
            "0\n",
            "4\n"
          ]
        }
      ]
    },
    {
      "cell_type": "markdown",
      "source": [
        "Bitwise Operator shift right/left"
      ],
      "metadata": {
        "id": "8o43EP5y68Tu"
      }
    },
    {
      "cell_type": "code",
      "source": [
        "u=2\n",
        "print(u<<1)\n",
        "\n",
        "g=10\n",
        "print(g<<1)"
      ],
      "metadata": {
        "colab": {
          "base_uri": "https://localhost:8080/"
        },
        "id": "uzo14MCP7AER",
        "outputId": "6a063549-a893-418a-a1fe-e34469b5150c"
      },
      "execution_count": null,
      "outputs": [
        {
          "output_type": "stream",
          "name": "stdout",
          "text": [
            "4\n",
            "20\n"
          ]
        }
      ]
    }
  ]
}