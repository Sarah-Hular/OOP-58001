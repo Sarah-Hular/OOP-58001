{
  "nbformat": 4,
  "nbformat_minor": 0,
  "metadata": {
    "colab": {
      "name": "Operations and Expressions.pynb",
      "provenance": [],
      "authorship_tag": "ABX9TyMlDWlBBuECuzhX+67jht7O",
      "include_colab_link": true
    },
    "kernelspec": {
      "name": "python3",
      "display_name": "Python 3"
    },
    "language_info": {
      "name": "python"
    }
  },
  "cells": [
    {
      "cell_type": "markdown",
      "metadata": {
        "id": "view-in-github",
        "colab_type": "text"
      },
      "source": [
        "<a href=\"https://colab.research.google.com/github/Sarah-Hular/OOP-58001/blob/main/Operations_and_Expressions_pynb.ipynb\" target=\"_parent\"><img src=\"https://colab.research.google.com/assets/colab-badge.svg\" alt=\"Open In Colab\"/></a>"
      ]
    },
    {
      "cell_type": "markdown",
      "source": [
        "Boolean Operators "
      ],
      "metadata": {
        "id": "ZLER2_Hc_Z4A"
      }
    },
    {
      "cell_type": "code",
      "source": [
        "print(10>9)\n",
        "print(10==9)\n",
        "print(10!=9)\n",
        "print(10<9)"
      ],
      "metadata": {
        "id": "oGnrR3Em_i1H"
      },
      "execution_count": null,
      "outputs": []
    },
    {
      "cell_type": "markdown",
      "source": [
        "bool() Function"
      ],
      "metadata": {
        "id": "gVdmwSD3_zX6"
      }
    },
    {
      "cell_type": "code",
      "source": [
        "print(bool(\"Maria\"))\n",
        "print(bool(19))\n",
        "print(bool([]))\n",
        "print(bool(0))\n",
        "print(bool(1))\n",
        "print(bool(None))\n",
        "print(bool(False))"
      ],
      "metadata": {
        "id": "Eq6gIPuQ_76h"
      },
      "execution_count": null,
      "outputs": []
    },
    {
      "cell_type": "markdown",
      "source": [
        "Function can return a Boolean"
      ],
      "metadata": {
        "id": "iWJdHWZj_9Lq"
      }
    },
    {
      "cell_type": "code",
      "source": [
        "def myFunction():\n",
        "  return False \n",
        "\n",
        "print(myFunction())"
      ],
      "metadata": {
        "id": "ggvsTZBvAA2J"
      },
      "execution_count": null,
      "outputs": []
    },
    {
      "cell_type": "code",
      "source": [
        "def myFunction():\n",
        "  return True\n",
        "\n",
        "if myFunction():\n",
        "  print(\"Yes!\")\n",
        "else:\n",
        "  print(\"No!\")"
      ],
      "metadata": {
        "id": "V-5r-JuLAC4R"
      },
      "execution_count": null,
      "outputs": []
    },
    {
      "cell_type": "markdown",
      "source": [
        "Application 1"
      ],
      "metadata": {
        "id": "1AbxqFnNAEpK"
      }
    },
    {
      "cell_type": "code",
      "source": [
        "print(10>9)\n",
        "\n",
        "a=6\n",
        "b=7\n",
        "print(a==b)\n",
        "print(a!=a)"
      ],
      "metadata": {
        "id": "XMk2ETHNAGEZ"
      },
      "execution_count": null,
      "outputs": []
    },
    {
      "cell_type": "code",
      "source": [
        "a=60\n",
        "b=13\n",
        "print(a>b)\n",
        "\n",
        "if a<b:\n",
        "  print(\"a is less than b\")\n",
        "else:\n",
        "  print(\"a is greater than b\")"
      ],
      "metadata": {
        "id": "EWaQFiDFAIWh"
      },
      "execution_count": null,
      "outputs": []
    },
    {
      "cell_type": "markdown",
      "source": [
        "Python Operators "
      ],
      "metadata": {
        "id": "yEWr4mECAJxZ"
      }
    },
    {
      "cell_type": "code",
      "source": [
        "print(10+3)\n",
        "print(10-3)\n",
        "print(10*3)\n",
        "print(10%3)\n",
        "print(10/3)"
      ],
      "metadata": {
        "id": "JB0E-VlPAL55"
      },
      "execution_count": null,
      "outputs": []
    },
    {
      "cell_type": "markdown",
      "source": [
        "Bitwise Operators "
      ],
      "metadata": {
        "id": "acR5X4GmANoZ"
      }
    },
    {
      "cell_type": "code",
      "source": [
        "# a = 60, binary 0011 1100\n",
        "# b = 13, binary 0000 1101\n",
        "\n",
        "print(a&b)\n",
        "print(a|b)\n",
        "print(a^b)\n",
        "print(a<<1)\n",
        "print(a<<2)"
      ],
      "metadata": {
        "id": "2X82eddmAPyR"
      },
      "execution_count": null,
      "outputs": []
    },
    {
      "cell_type": "markdown",
      "source": [
        "Application 2"
      ],
      "metadata": {
        "id": "pG0VAyEDATAR"
      }
    },
    {
      "cell_type": "code",
      "source": [
        "#Assignment Operators\n",
        "x=2\n",
        "\n",
        "x+=3 #same as x=x+3\n",
        "print(x)\n",
        "\n",
        "x-=3 #same as x=x-3\n",
        "print(x)\n",
        "\n",
        "x*=3 #same as x=x*3\n",
        "print(x) \n",
        "\n",
        "x/=3 #same as x=x/3\n",
        "print(x)\n",
        "\n",
        "x%=3 #same as x=x%3\n",
        "print(x)"
      ],
      "metadata": {
        "id": "09iIn9hcAXla"
      },
      "execution_count": null,
      "outputs": []
    },
    {
      "cell_type": "markdown",
      "source": [
        "Logical Operators"
      ],
      "metadata": {
        "id": "HbjFCdnHAYXx"
      }
    },
    {
      "cell_type": "code",
      "source": [
        "k = True\n",
        "l = False\n",
        "print(k and l)\n",
        "print(k or l)\n",
        "print(not(k or l))"
      ],
      "metadata": {
        "id": "ayI9qz_VAb7i"
      },
      "execution_count": null,
      "outputs": []
    },
    {
      "cell_type": "markdown",
      "source": [
        "Identity Operators "
      ],
      "metadata": {
        "id": "3PyZQGbYAd7J"
      }
    },
    {
      "cell_type": "code",
      "source": [
        "k is l\n",
        "k is not l"
      ],
      "metadata": {
        "id": "ACNVC1wVAfbK"
      },
      "execution_count": null,
      "outputs": []
    },
    {
      "cell_type": "markdown",
      "source": [
        "#Control Structure"
      ],
      "metadata": {
        "id": "PjABPOFXDWYw"
      }
    },
    {
      "cell_type": "markdown",
      "source": [
        "If Statements\n"
      ],
      "metadata": {
        "id": "CbUaaOnBDWbh"
      }
    },
    {
      "cell_type": "code",
      "source": [
        "v = 2\n",
        "z = 1\n",
        "\n",
        "if 1<2:\n",
        "  print(\"1 is less than 2\")"
      ],
      "metadata": {
        "id": "yiYqYfktD9fx"
      },
      "execution_count": null,
      "outputs": []
    },
    {
      "cell_type": "markdown",
      "source": [
        "Elif Statement"
      ],
      "metadata": {
        "id": "5Slargi0D_YZ"
      }
    },
    {
      "cell_type": "code",
      "source": [
        "if v<z:\n",
        "  print(\"v is less than z\")\n",
        "elif v>z:\n",
        "  print(\"v is greater than z\")"
      ],
      "metadata": {
        "id": "t_TrdAq8EA9J"
      },
      "execution_count": null,
      "outputs": []
    },
    {
      "cell_type": "markdown",
      "source": [
        "Else Statement"
      ],
      "metadata": {
        "id": "mj3Bp-zUECZZ"
      }
    },
    {
      "cell_type": "code",
      "source": [
        "number = int(input()) #to know if the number is positive or negative\n",
        "\n",
        "if number>0:\n",
        "  print(\"Positive\")\n",
        "elif number<0:\n",
        "  print(\"Negative\")\n",
        "else:\n",
        "  print(\"number is equal to zero\")"
      ],
      "metadata": {
        "id": "ShSpc2rmED57"
      },
      "execution_count": null,
      "outputs": []
    },
    {
      "cell_type": "markdown",
      "source": [
        "Application 3"
      ],
      "metadata": {
        "id": "TE2Fi9NAEGGR"
      }
    },
    {
      "cell_type": "code",
      "source": [
        "#Develop a Python program that will accept if the person is entitled to vote or not\n",
        "age = int(input())\n",
        "\n",
        "if age>=18:\n",
        "  print(\"You are qualified to vote\")\n",
        "else:\n",
        "  print(\"You are not qualified to vote\")"
      ],
      "metadata": {
        "id": "EjSeoB2EEHuZ"
      },
      "execution_count": null,
      "outputs": []
    },
    {
      "cell_type": "markdown",
      "source": [
        "Nested If...Else"
      ],
      "metadata": {
        "id": "uBQkkhfiEJly"
      }
    },
    {
      "cell_type": "code",
      "source": [
        "u = int(input())\n",
        "if u>10:\n",
        "  print(\"u is above 10\")\n",
        "  if u>20:\n",
        "    print(\"u is above 20\")\n",
        "    if u>30:\n",
        "      print(\"u is above 30\")\n",
        "      if u>40:\n",
        "        print(\"u is above 40\")\n",
        "      else:\n",
        "        print(\"u is below 40\")\n",
        "        if u>50:\n",
        "          print(\"u is above 50\")\n",
        "        else:\n",
        "          print(\"u is below 50\")"
      ],
      "metadata": {
        "id": "jleEHYXUENvJ"
      },
      "execution_count": null,
      "outputs": []
    },
    {
      "cell_type": "markdown",
      "source": [
        "Loop Structure"
      ],
      "metadata": {
        "id": "ahXyiwmDEPfC"
      }
    },
    {
      "cell_type": "code",
      "source": [
        "week = ['Sunday', 'Monday', 'Tuesday', 'Wednesday', 'Thursday', 'Friday', 'Saturday']\n",
        "season = [\"Rainy\", \"Sunny\"]\n",
        "\n",
        "for x in week:\n",
        "  for y in season:\n",
        "    print(y,x)"
      ],
      "metadata": {
        "id": "kIjvpxbrEU4h"
      },
      "execution_count": null,
      "outputs": []
    },
    {
      "cell_type": "markdown",
      "source": [
        "Break Statement"
      ],
      "metadata": {
        "id": "nGur0bX-EW4p"
      }
    },
    {
      "cell_type": "code",
      "source": [
        "for x in week:\n",
        "  print(x)\n",
        "  if x == \"Thursday\":\n",
        "    break"
      ],
      "metadata": {
        "id": "mLegVOUzEYrh"
      },
      "execution_count": null,
      "outputs": []
    },
    {
      "cell_type": "markdown",
      "source": [
        "While Loop"
      ],
      "metadata": {
        "id": "EcqtaLpQEbAC"
      }
    },
    {
      "cell_type": "code",
      "source": [
        "i=1\n",
        "while i<6:\n",
        "  print(i)\n",
        "  i+=1"
      ],
      "metadata": {
        "id": "rPtlL1L0EciD"
      },
      "execution_count": null,
      "outputs": []
    },
    {
      "cell_type": "markdown",
      "source": [
        "Application 4"
      ],
      "metadata": {
        "id": "U4bnl6B5EeWp"
      }
    },
    {
      "cell_type": "code",
      "source": [
        "#Create a Python program that displays numbers from 1 to 4 using while loop statement\n",
        "\n",
        "n=1\n",
        "while n<5:\n",
        "  print(n)\n",
        "  n+=1"
      ],
      "metadata": {
        "id": "f5waYo6vEfbC"
      },
      "execution_count": null,
      "outputs": []
    },
    {
      "cell_type": "markdown",
      "source": [
        "Application 5"
      ],
      "metadata": {
        "id": "qn-cIx7fEg0C"
      }
    },
    {
      "cell_type": "code",
      "source": [
        "#Create a Python program that displays 4 numbers using while loop and break statement\n",
        "\n",
        "r=1\n",
        "while r<=4:\n",
        "  if r==4:\n",
        "    print(r)\n",
        "  r+=1\n",
        "  "
      ],
      "metadata": {
        "id": "Yu3fQg-bEiMp"
      },
      "execution_count": null,
      "outputs": []
    }
  ]
}